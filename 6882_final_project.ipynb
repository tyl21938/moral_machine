{
  "cells": [
    {
      "cell_type": "code",
      "execution_count": null,
      "metadata": {
        "id": "Z19lXpxsA2Yd"
      },
      "outputs": [],
      "source": [
        "import arviz as az\n",
        "import matplotlib.pyplot as plt\n",
        "import seaborn as sns\n",
        "import numpy as np\n",
        "import pymc3 as pm\n",
        "import theano.tensor as tt\n",
        "import warnings\n",
        "import pandas as pd \n",
        "import numpy as np \n",
        "\n",
        "warnings.simplefilter(action=\"ignore\", category=FutureWarning)"
      ]
    },
    {
      "cell_type": "markdown",
      "metadata": {
        "id": "xxFT9zLpHg1q"
      },
      "source": [
        "Data Parameterization\n",
        "\n",
        "want vector of theta vectors per individual/scenario"
      ]
    },
    {
      "cell_type": "code",
      "execution_count": null,
      "metadata": {
        "colab": {
          "base_uri": "https://localhost:8080/"
        },
        "id": "ooPsE9UK5WVl",
        "outputId": "02be6b55-ff03-4017-9cfd-eb9642398b5e"
      },
      "outputs": [
        {
          "name": "stdout",
          "output_type": "stream",
          "text": [
            "Drive already mounted at /content/drive; to attempt to forcibly remount, call drive.mount(\"/content/drive\", force_remount=True).\n",
            "/content/drive/My Drive/MIT/Classes/6.882\n"
          ]
        }
      ],
      "source": [
        "from google.colab import drive\n",
        "drive.mount('/content/drive')\n",
        "%cd /content/drive/My Drive/MIT/Classes/6.882/"
      ]
    },
    {
      "cell_type": "code",
      "execution_count": null,
      "metadata": {
        "colab": {
          "base_uri": "https://localhost:8080/",
          "height": 487
        },
        "id": "O-Ct_sG4HjRR",
        "outputId": "189a113e-97fd-4bf4-9ca8-5219ef704c51"
      },
      "outputs": [
        {
          "data": {
            "text/html": [
              "\n",
              "  <div id=\"df-4975a448-1116-44de-80ef-19f6770d1e12\">\n",
              "    <div class=\"colab-df-container\">\n",
              "      <div>\n",
              "<style scoped>\n",
              "    .dataframe tbody tr th:only-of-type {\n",
              "        vertical-align: middle;\n",
              "    }\n",
              "\n",
              "    .dataframe tbody tr th {\n",
              "        vertical-align: top;\n",
              "    }\n",
              "\n",
              "    .dataframe thead th {\n",
              "        text-align: right;\n",
              "    }\n",
              "</style>\n",
              "<table border=\"1\" class=\"dataframe\">\n",
              "  <thead>\n",
              "    <tr style=\"text-align: right;\">\n",
              "      <th></th>\n",
              "      <th>ResponseID</th>\n",
              "      <th>ExtendedSessionID</th>\n",
              "      <th>UserID</th>\n",
              "      <th>ScenarioOrder</th>\n",
              "      <th>Intervention</th>\n",
              "      <th>PedPed</th>\n",
              "      <th>Barrier</th>\n",
              "      <th>CrossingSignal</th>\n",
              "      <th>AttributeLevel</th>\n",
              "      <th>ScenarioTypeStrict</th>\n",
              "      <th>...</th>\n",
              "      <th>MaleDoctor</th>\n",
              "      <th>Dog</th>\n",
              "      <th>Cat</th>\n",
              "      <th>Review_age</th>\n",
              "      <th>Review_education</th>\n",
              "      <th>Review_gender</th>\n",
              "      <th>Review_income</th>\n",
              "      <th>Review_political</th>\n",
              "      <th>Review_religious</th>\n",
              "      <th>index</th>\n",
              "    </tr>\n",
              "  </thead>\n",
              "  <tbody>\n",
              "    <tr>\n",
              "      <th>0</th>\n",
              "      <td>299AB2iHwJt8bD7j3</td>\n",
              "      <td>686739463_9556284339632838.0</td>\n",
              "      <td>9.556284e+15</td>\n",
              "      <td>3</td>\n",
              "      <td>0</td>\n",
              "      <td>1</td>\n",
              "      <td>0</td>\n",
              "      <td>1</td>\n",
              "      <td>Old</td>\n",
              "      <td>Age</td>\n",
              "      <td>...</td>\n",
              "      <td>0.0</td>\n",
              "      <td>0.0</td>\n",
              "      <td>0.0</td>\n",
              "      <td>18.0</td>\n",
              "      <td>college</td>\n",
              "      <td>female</td>\n",
              "      <td>under5000</td>\n",
              "      <td>0.65</td>\n",
              "      <td>0.50</td>\n",
              "      <td>7</td>\n",
              "    </tr>\n",
              "    <tr>\n",
              "      <th>1</th>\n",
              "      <td>6SRHpLrBhraFNRmCd</td>\n",
              "      <td>-1662891142_9556284339632838.0</td>\n",
              "      <td>9.556284e+15</td>\n",
              "      <td>12</td>\n",
              "      <td>0</td>\n",
              "      <td>0</td>\n",
              "      <td>0</td>\n",
              "      <td>1</td>\n",
              "      <td>Pets</td>\n",
              "      <td>Species</td>\n",
              "      <td>...</td>\n",
              "      <td>0.0</td>\n",
              "      <td>3.0</td>\n",
              "      <td>1.0</td>\n",
              "      <td>18.0</td>\n",
              "      <td>college</td>\n",
              "      <td>female</td>\n",
              "      <td>under5000</td>\n",
              "      <td>0.65</td>\n",
              "      <td>0.50</td>\n",
              "      <td>7</td>\n",
              "    </tr>\n",
              "    <tr>\n",
              "      <th>2</th>\n",
              "      <td>6pcMLzW4To94ZiiPz</td>\n",
              "      <td>-1662891142_9556284339632838.0</td>\n",
              "      <td>9.556284e+15</td>\n",
              "      <td>5</td>\n",
              "      <td>0</td>\n",
              "      <td>1</td>\n",
              "      <td>0</td>\n",
              "      <td>2</td>\n",
              "      <td>Less</td>\n",
              "      <td>Utilitarian</td>\n",
              "      <td>...</td>\n",
              "      <td>0.0</td>\n",
              "      <td>0.0</td>\n",
              "      <td>0.0</td>\n",
              "      <td>18.0</td>\n",
              "      <td>college</td>\n",
              "      <td>female</td>\n",
              "      <td>under5000</td>\n",
              "      <td>0.65</td>\n",
              "      <td>0.50</td>\n",
              "      <td>7</td>\n",
              "    </tr>\n",
              "    <tr>\n",
              "      <th>3</th>\n",
              "      <td>6yKWAprYtrA7sZj7F</td>\n",
              "      <td>-1662891142_9556284339632838.0</td>\n",
              "      <td>9.556284e+15</td>\n",
              "      <td>2</td>\n",
              "      <td>0</td>\n",
              "      <td>0</td>\n",
              "      <td>0</td>\n",
              "      <td>2</td>\n",
              "      <td>Fit</td>\n",
              "      <td>Fitness</td>\n",
              "      <td>...</td>\n",
              "      <td>0.0</td>\n",
              "      <td>0.0</td>\n",
              "      <td>0.0</td>\n",
              "      <td>18.0</td>\n",
              "      <td>college</td>\n",
              "      <td>female</td>\n",
              "      <td>under5000</td>\n",
              "      <td>0.65</td>\n",
              "      <td>0.50</td>\n",
              "      <td>7</td>\n",
              "    </tr>\n",
              "    <tr>\n",
              "      <th>4</th>\n",
              "      <td>7ojXYpSfFGhHvvca5</td>\n",
              "      <td>-1662891142_9556284339632838.0</td>\n",
              "      <td>9.556284e+15</td>\n",
              "      <td>10</td>\n",
              "      <td>0</td>\n",
              "      <td>0</td>\n",
              "      <td>0</td>\n",
              "      <td>2</td>\n",
              "      <td>High</td>\n",
              "      <td>Social Status</td>\n",
              "      <td>...</td>\n",
              "      <td>0.0</td>\n",
              "      <td>0.0</td>\n",
              "      <td>0.0</td>\n",
              "      <td>18.0</td>\n",
              "      <td>college</td>\n",
              "      <td>female</td>\n",
              "      <td>under5000</td>\n",
              "      <td>0.65</td>\n",
              "      <td>0.50</td>\n",
              "      <td>7</td>\n",
              "    </tr>\n",
              "    <tr>\n",
              "      <th>...</th>\n",
              "      <td>...</td>\n",
              "      <td>...</td>\n",
              "      <td>...</td>\n",
              "      <td>...</td>\n",
              "      <td>...</td>\n",
              "      <td>...</td>\n",
              "      <td>...</td>\n",
              "      <td>...</td>\n",
              "      <td>...</td>\n",
              "      <td>...</td>\n",
              "      <td>...</td>\n",
              "      <td>...</td>\n",
              "      <td>...</td>\n",
              "      <td>...</td>\n",
              "      <td>...</td>\n",
              "      <td>...</td>\n",
              "      <td>...</td>\n",
              "      <td>...</td>\n",
              "      <td>...</td>\n",
              "      <td>...</td>\n",
              "      <td>...</td>\n",
              "    </tr>\n",
              "    <tr>\n",
              "      <th>374</th>\n",
              "      <td>tkSt5hSu5DehXnyYC</td>\n",
              "      <td>-1318233634_7907457820719717.0</td>\n",
              "      <td>7.907458e+15</td>\n",
              "      <td>10</td>\n",
              "      <td>0</td>\n",
              "      <td>1</td>\n",
              "      <td>0</td>\n",
              "      <td>0</td>\n",
              "      <td>Fat</td>\n",
              "      <td>Fitness</td>\n",
              "      <td>...</td>\n",
              "      <td>0.0</td>\n",
              "      <td>0.0</td>\n",
              "      <td>0.0</td>\n",
              "      <td>42.0</td>\n",
              "      <td>graduate</td>\n",
              "      <td>male</td>\n",
              "      <td>50000</td>\n",
              "      <td>0.50</td>\n",
              "      <td>0.01</td>\n",
              "      <td>3</td>\n",
              "    </tr>\n",
              "    <tr>\n",
              "      <th>375</th>\n",
              "      <td>y3zZB4DYhpJ39yw2K</td>\n",
              "      <td>-1318233634_7907457820719717.0</td>\n",
              "      <td>7.907458e+15</td>\n",
              "      <td>6</td>\n",
              "      <td>0</td>\n",
              "      <td>0</td>\n",
              "      <td>1</td>\n",
              "      <td>0</td>\n",
              "      <td>Female</td>\n",
              "      <td>Gender</td>\n",
              "      <td>...</td>\n",
              "      <td>0.0</td>\n",
              "      <td>0.0</td>\n",
              "      <td>0.0</td>\n",
              "      <td>42.0</td>\n",
              "      <td>graduate</td>\n",
              "      <td>male</td>\n",
              "      <td>50000</td>\n",
              "      <td>0.50</td>\n",
              "      <td>0.01</td>\n",
              "      <td>3</td>\n",
              "    </tr>\n",
              "    <tr>\n",
              "      <th>376</th>\n",
              "      <td>q66gzYqkyYq7JkZL6</td>\n",
              "      <td>-1318233634_7907457820719717.0</td>\n",
              "      <td>7.907458e+15</td>\n",
              "      <td>4</td>\n",
              "      <td>1</td>\n",
              "      <td>0</td>\n",
              "      <td>1</td>\n",
              "      <td>0</td>\n",
              "      <td>Young</td>\n",
              "      <td>Age</td>\n",
              "      <td>...</td>\n",
              "      <td>0.0</td>\n",
              "      <td>0.0</td>\n",
              "      <td>0.0</td>\n",
              "      <td>42.0</td>\n",
              "      <td>graduate</td>\n",
              "      <td>male</td>\n",
              "      <td>50000</td>\n",
              "      <td>0.50</td>\n",
              "      <td>0.01</td>\n",
              "      <td>3</td>\n",
              "    </tr>\n",
              "    <tr>\n",
              "      <th>377</th>\n",
              "      <td>tkSt5hSu5DehXnyYC</td>\n",
              "      <td>-1318233634_7907457820719717.0</td>\n",
              "      <td>7.907458e+15</td>\n",
              "      <td>10</td>\n",
              "      <td>1</td>\n",
              "      <td>1</td>\n",
              "      <td>0</td>\n",
              "      <td>0</td>\n",
              "      <td>Fit</td>\n",
              "      <td>Fitness</td>\n",
              "      <td>...</td>\n",
              "      <td>0.0</td>\n",
              "      <td>0.0</td>\n",
              "      <td>0.0</td>\n",
              "      <td>42.0</td>\n",
              "      <td>graduate</td>\n",
              "      <td>male</td>\n",
              "      <td>50000</td>\n",
              "      <td>0.50</td>\n",
              "      <td>0.01</td>\n",
              "      <td>3</td>\n",
              "    </tr>\n",
              "    <tr>\n",
              "      <th>378</th>\n",
              "      <td>y3zZB4DYhpJ39yw2K</td>\n",
              "      <td>-1318233634_7907457820719717.0</td>\n",
              "      <td>7.907458e+15</td>\n",
              "      <td>6</td>\n",
              "      <td>1</td>\n",
              "      <td>0</td>\n",
              "      <td>0</td>\n",
              "      <td>0</td>\n",
              "      <td>Male</td>\n",
              "      <td>Gender</td>\n",
              "      <td>...</td>\n",
              "      <td>0.0</td>\n",
              "      <td>0.0</td>\n",
              "      <td>0.0</td>\n",
              "      <td>42.0</td>\n",
              "      <td>graduate</td>\n",
              "      <td>male</td>\n",
              "      <td>50000</td>\n",
              "      <td>0.50</td>\n",
              "      <td>0.01</td>\n",
              "      <td>3</td>\n",
              "    </tr>\n",
              "  </tbody>\n",
              "</table>\n",
              "<p>379 rows × 48 columns</p>\n",
              "</div>\n",
              "      <button class=\"colab-df-convert\" onclick=\"convertToInteractive('df-4975a448-1116-44de-80ef-19f6770d1e12')\"\n",
              "              title=\"Convert this dataframe to an interactive table.\"\n",
              "              style=\"display:none;\">\n",
              "        \n",
              "  <svg xmlns=\"http://www.w3.org/2000/svg\" height=\"24px\"viewBox=\"0 0 24 24\"\n",
              "       width=\"24px\">\n",
              "    <path d=\"M0 0h24v24H0V0z\" fill=\"none\"/>\n",
              "    <path d=\"M18.56 5.44l.94 2.06.94-2.06 2.06-.94-2.06-.94-.94-2.06-.94 2.06-2.06.94zm-11 1L8.5 8.5l.94-2.06 2.06-.94-2.06-.94L8.5 2.5l-.94 2.06-2.06.94zm10 10l.94 2.06.94-2.06 2.06-.94-2.06-.94-.94-2.06-.94 2.06-2.06.94z\"/><path d=\"M17.41 7.96l-1.37-1.37c-.4-.4-.92-.59-1.43-.59-.52 0-1.04.2-1.43.59L10.3 9.45l-7.72 7.72c-.78.78-.78 2.05 0 2.83L4 21.41c.39.39.9.59 1.41.59.51 0 1.02-.2 1.41-.59l7.78-7.78 2.81-2.81c.8-.78.8-2.07 0-2.86zM5.41 20L4 18.59l7.72-7.72 1.47 1.35L5.41 20z\"/>\n",
              "  </svg>\n",
              "      </button>\n",
              "      \n",
              "  <style>\n",
              "    .colab-df-container {\n",
              "      display:flex;\n",
              "      flex-wrap:wrap;\n",
              "      gap: 12px;\n",
              "    }\n",
              "\n",
              "    .colab-df-convert {\n",
              "      background-color: #E8F0FE;\n",
              "      border: none;\n",
              "      border-radius: 50%;\n",
              "      cursor: pointer;\n",
              "      display: none;\n",
              "      fill: #1967D2;\n",
              "      height: 32px;\n",
              "      padding: 0 0 0 0;\n",
              "      width: 32px;\n",
              "    }\n",
              "\n",
              "    .colab-df-convert:hover {\n",
              "      background-color: #E2EBFA;\n",
              "      box-shadow: 0px 1px 2px rgba(60, 64, 67, 0.3), 0px 1px 3px 1px rgba(60, 64, 67, 0.15);\n",
              "      fill: #174EA6;\n",
              "    }\n",
              "\n",
              "    [theme=dark] .colab-df-convert {\n",
              "      background-color: #3B4455;\n",
              "      fill: #D2E3FC;\n",
              "    }\n",
              "\n",
              "    [theme=dark] .colab-df-convert:hover {\n",
              "      background-color: #434B5C;\n",
              "      box-shadow: 0px 1px 3px 1px rgba(0, 0, 0, 0.15);\n",
              "      filter: drop-shadow(0px 1px 2px rgba(0, 0, 0, 0.3));\n",
              "      fill: #FFFFFF;\n",
              "    }\n",
              "  </style>\n",
              "\n",
              "      <script>\n",
              "        const buttonEl =\n",
              "          document.querySelector('#df-4975a448-1116-44de-80ef-19f6770d1e12 button.colab-df-convert');\n",
              "        buttonEl.style.display =\n",
              "          google.colab.kernel.accessAllowed ? 'block' : 'none';\n",
              "\n",
              "        async function convertToInteractive(key) {\n",
              "          const element = document.querySelector('#df-4975a448-1116-44de-80ef-19f6770d1e12');\n",
              "          const dataTable =\n",
              "            await google.colab.kernel.invokeFunction('convertToInteractive',\n",
              "                                                     [key], {});\n",
              "          if (!dataTable) return;\n",
              "\n",
              "          const docLinkHtml = 'Like what you see? Visit the ' +\n",
              "            '<a target=\"_blank\" href=https://colab.research.google.com/notebooks/data_table.ipynb>data table notebook</a>'\n",
              "            + ' to learn more about interactive tables.';\n",
              "          element.innerHTML = '';\n",
              "          dataTable['output_type'] = 'display_data';\n",
              "          await google.colab.output.renderOutput(dataTable, element);\n",
              "          const docLink = document.createElement('div');\n",
              "          docLink.innerHTML = docLinkHtml;\n",
              "          element.appendChild(docLink);\n",
              "        }\n",
              "      </script>\n",
              "    </div>\n",
              "  </div>\n",
              "  "
            ],
            "text/plain": [
              "            ResponseID               ExtendedSessionID        UserID  \\\n",
              "0    299AB2iHwJt8bD7j3    686739463_9556284339632838.0  9.556284e+15   \n",
              "1    6SRHpLrBhraFNRmCd  -1662891142_9556284339632838.0  9.556284e+15   \n",
              "2    6pcMLzW4To94ZiiPz  -1662891142_9556284339632838.0  9.556284e+15   \n",
              "3    6yKWAprYtrA7sZj7F  -1662891142_9556284339632838.0  9.556284e+15   \n",
              "4    7ojXYpSfFGhHvvca5  -1662891142_9556284339632838.0  9.556284e+15   \n",
              "..                 ...                             ...           ...   \n",
              "374  tkSt5hSu5DehXnyYC  -1318233634_7907457820719717.0  7.907458e+15   \n",
              "375  y3zZB4DYhpJ39yw2K  -1318233634_7907457820719717.0  7.907458e+15   \n",
              "376  q66gzYqkyYq7JkZL6  -1318233634_7907457820719717.0  7.907458e+15   \n",
              "377  tkSt5hSu5DehXnyYC  -1318233634_7907457820719717.0  7.907458e+15   \n",
              "378  y3zZB4DYhpJ39yw2K  -1318233634_7907457820719717.0  7.907458e+15   \n",
              "\n",
              "     ScenarioOrder  Intervention  PedPed  Barrier  CrossingSignal  \\\n",
              "0                3             0       1        0               1   \n",
              "1               12             0       0        0               1   \n",
              "2                5             0       1        0               2   \n",
              "3                2             0       0        0               2   \n",
              "4               10             0       0        0               2   \n",
              "..             ...           ...     ...      ...             ...   \n",
              "374             10             0       1        0               0   \n",
              "375              6             0       0        1               0   \n",
              "376              4             1       0        1               0   \n",
              "377             10             1       1        0               0   \n",
              "378              6             1       0        0               0   \n",
              "\n",
              "    AttributeLevel ScenarioTypeStrict  ... MaleDoctor  Dog  Cat  Review_age  \\\n",
              "0              Old                Age  ...        0.0  0.0  0.0        18.0   \n",
              "1             Pets            Species  ...        0.0  3.0  1.0        18.0   \n",
              "2             Less        Utilitarian  ...        0.0  0.0  0.0        18.0   \n",
              "3              Fit            Fitness  ...        0.0  0.0  0.0        18.0   \n",
              "4             High      Social Status  ...        0.0  0.0  0.0        18.0   \n",
              "..             ...                ...  ...        ...  ...  ...         ...   \n",
              "374            Fat            Fitness  ...        0.0  0.0  0.0        42.0   \n",
              "375         Female             Gender  ...        0.0  0.0  0.0        42.0   \n",
              "376          Young                Age  ...        0.0  0.0  0.0        42.0   \n",
              "377            Fit            Fitness  ...        0.0  0.0  0.0        42.0   \n",
              "378           Male             Gender  ...        0.0  0.0  0.0        42.0   \n",
              "\n",
              "     Review_education  Review_gender  Review_income Review_political  \\\n",
              "0             college         female      under5000             0.65   \n",
              "1             college         female      under5000             0.65   \n",
              "2             college         female      under5000             0.65   \n",
              "3             college         female      under5000             0.65   \n",
              "4             college         female      under5000             0.65   \n",
              "..                ...            ...            ...              ...   \n",
              "374          graduate           male          50000             0.50   \n",
              "375          graduate           male          50000             0.50   \n",
              "376          graduate           male          50000             0.50   \n",
              "377          graduate           male          50000             0.50   \n",
              "378          graduate           male          50000             0.50   \n",
              "\n",
              "     Review_religious  index  \n",
              "0                0.50      7  \n",
              "1                0.50      7  \n",
              "2                0.50      7  \n",
              "3                0.50      7  \n",
              "4                0.50      7  \n",
              "..                ...    ...  \n",
              "374              0.01      3  \n",
              "375              0.01      3  \n",
              "376              0.01      3  \n",
              "377              0.01      3  \n",
              "378              0.01      3  \n",
              "\n",
              "[379 rows x 48 columns]"
            ]
          },
          "execution_count": 70,
          "metadata": {},
          "output_type": "execute_result"
        }
      ],
      "source": [
        "df = pd.read_csv('chn8.csv')\n",
        "temp = df.groupby('UserID').count().reset_index().reset_index()[['index','UserID']]\n",
        "df = df.merge(temp, how='left', on='UserID')\n",
        "df"
      ]
    },
    {
      "cell_type": "code",
      "execution_count": null,
      "metadata": {
        "colab": {
          "base_uri": "https://localhost:8080/"
        },
        "id": "iKz9N-s6fakZ",
        "outputId": "de94d0b7-b2a7-456b-a845-4146f08c4045"
      },
      "outputs": [
        {
          "data": {
            "text/plain": [
              "Index(['ResponseID_x', 'ExtendedSessionID_x', 'UserID', 'ScenarioOrder_x',\n",
              "       'Intervention_x', 'PedPed_x', 'Barrier_x', 'CrossingSignal_x',\n",
              "       'AttributeLevel_x', 'ScenarioTypeStrict_x', 'ScenarioType_x',\n",
              "       'DefaultChoice_x', 'NonDefaultChoice_x', 'DefaultChoiceIsOmission_x',\n",
              "       'NumberOfCharacters_x', 'DiffNumberOFCharacters_x', 'Saved_x',\n",
              "       'Template_x', 'DescriptionShown_x', 'LeftHand_x', 'UserCountry3_x',\n",
              "       'Man', 'Woman', 'Pregnant', 'Stroller', 'OldMan', 'OldWoman', 'Boy',\n",
              "       'Girl', 'Homeless', 'LargeWoman', 'LargeMan', 'Criminal',\n",
              "       'MaleExecutive', 'FemaleExecutive', 'FemaleAthlete', 'MaleAthlete',\n",
              "       'FemaleDoctor', 'MaleDoctor', 'Dog', 'Cat', 'ResponseID_y',\n",
              "       'ExtendedSessionID_y', 'ScenarioOrder_y', 'Intervention_y', 'PedPed_y',\n",
              "       'Barrier_y', 'CrossingSignal_y', 'AttributeLevel_y',\n",
              "       'ScenarioTypeStrict_y', 'ScenarioType_y', 'DefaultChoice_y',\n",
              "       'NonDefaultChoice_y', 'DefaultChoiceIsOmission_y',\n",
              "       'NumberOfCharacters_y', 'DiffNumberOFCharacters_y', 'Saved_y',\n",
              "       'Template_y', 'DescriptionShown_y', 'LeftHand_y', 'UserCountry3_y',\n",
              "       'Review_age', 'Review_education', 'Review_gender', 'Review_income',\n",
              "       'Review_political', 'Review_religious', 'index'],\n",
              "      dtype='object')"
            ]
          },
          "execution_count": 26,
          "metadata": {},
          "output_type": "execute_result"
        }
      ],
      "source": [
        "# df[df['Intervention_x']==0]\n",
        "df.columns"
      ]
    },
    {
      "cell_type": "code",
      "execution_count": null,
      "metadata": {
        "id": "cMv8-wOm913y"
      },
      "outputs": [],
      "source": [
        "test_idx = [11,12,13]\n",
        "test_data = df[df['ScenarioOrder'].isin(test_idx)]"
      ]
    },
    {
      "cell_type": "code",
      "execution_count": null,
      "metadata": {
        "id": "cgjqkYl14Kx7"
      },
      "outputs": [],
      "source": [
        "pd.set_option('display.max_columns', 500)"
      ]
    },
    {
      "cell_type": "code",
      "execution_count": null,
      "metadata": {
        "id": "DQkozpR_913x"
      },
      "outputs": [],
      "source": [
        "'''\n",
        "Splitting training and testing thetas\n",
        "training - first 10 scenarios per respondent\n",
        "testing - last 3 scenarios\n",
        "'''\n",
        "\n",
        "train_theta0_list = []\n",
        "train_theta1_list = []\n",
        "train_observed = []\n",
        "train_respondents_idx = []\n",
        "\n",
        "for name, group in df.groupby(['UserID','ResponseID']):\n",
        "  if group.shape[0]==2:\n",
        "    # print(group)\n",
        " \n",
        "    row0 = group[group['Intervention']==1] # 0: character will die if AV stays, thus if no intervention, characters saved are when intervention=1\n",
        "    row1 = group[group['Intervention']==0] # 1: character will die if AV swerves\n",
        "    # print(row0)\n",
        "    # print('break')\n",
        "    # print(row1)\n",
        "    if row0['ScenarioOrder'].iloc[0] not in test_idx:\n",
        "      chosen_outcome = 1 if row1['Saved'].iloc[0]==1 else 0   # 0: user decided to kill characters in this outcome, 1: saved characters\n",
        "      train_observed.append(chosen_outcome)\n",
        "      \n",
        "      train_theta0 = [0, row0['Man'].iloc[0], row0['Woman'].iloc[0], row0['Boy'].iloc[0], \n",
        "              row0['Girl'].iloc[0], row0['OldMan'].iloc[0], row0['OldWoman'].iloc[0], row0['Stroller'].iloc[0],\n",
        "              row0['Pregnant'].iloc[0], row0['LargeMan'].iloc[0], row0['LargeWoman'].iloc[0], row0['MaleAthlete'].iloc[0],\n",
        "              row0['FemaleAthlete'].iloc[0], row0['MaleExecutive'].iloc[0], row0['FemaleExecutive'].iloc[0], row0['MaleDoctor'].iloc[0],\n",
        "              row0['FemaleDoctor'].iloc[0], row0['Homeless'].iloc[0], row0['Criminal'].iloc[0], row0['Dog'].iloc[0], row0['Cat'].iloc[0]\n",
        "              ] \n",
        "\n",
        "      train_theta0_list.append(np.array(train_theta0))\n",
        "\n",
        "      train_theta1 = [1, row1['Man'].iloc[0], row1['Woman'].iloc[0], row1['Boy'].iloc[0], \n",
        "              row1['Girl'].iloc[0], row1['OldMan'].iloc[0], row1['OldWoman'].iloc[0], row1['Stroller'].iloc[0],\n",
        "              row1['Pregnant'].iloc[0], row1['LargeMan'].iloc[0], row1['LargeWoman'].iloc[0], row1['MaleAthlete'].iloc[0],\n",
        "              row1['FemaleAthlete'].iloc[0], row1['MaleExecutive'].iloc[0], row1['FemaleExecutive'].iloc[0], row1['MaleDoctor'].iloc[0],\n",
        "              row1['FemaleDoctor'].iloc[0], row1['Homeless'].iloc[0], row1['Criminal'].iloc[0], row1['Dog'].iloc[0], row1['Cat'].iloc[0]\n",
        "              ] \n",
        "      train_theta1_list.append(np.array(train_theta1))\n",
        "      \n",
        "      \n",
        "      train_respondents_idx.append(row0['index'].iloc[0])\n",
        "\n",
        "train_observed = np.array(train_observed)\n"
      ]
    },
    {
      "cell_type": "code",
      "execution_count": null,
      "metadata": {
        "colab": {
          "base_uri": "https://localhost:8080/"
        },
        "id": "ZrL3zrDk1bya",
        "outputId": "36bc99da-61fa-45b9-a8a1-1a6ca80daf3a"
      },
      "outputs": [
        {
          "data": {
            "text/plain": [
              "0.4028776978417266"
            ]
          },
          "execution_count": 73,
          "metadata": {},
          "output_type": "execute_result"
        }
      ],
      "source": [
        "sum(train_observed) / len(train_observed)"
      ]
    },
    {
      "cell_type": "code",
      "execution_count": null,
      "metadata": {
        "id": "cQxJv-1JI6RO"
      },
      "outputs": [],
      "source": [
        "# Initialize A (15x21) binary matrix of moral values corresponding to characters\n",
        "A_list = [\n",
        "     [1,0,0,0,0,0,0,0,0,0,0,0,0,0,0,0,0,0,0,0,0], #Intervene\n",
        "     [0,1,0,1,0,1,0,0,0,1,0,1,0,1,0,1,0,0,0,0,0], #Male\n",
        "     [0,0,1,0,1,0,1,0,1,0,1,0,1,0,1,0,1,0,0,0,0], #Female\n",
        "     [0,0,0,1,1,0,0,1,0,0,0,0,0,0,0,0,0,0,0,0,0], #Young\n",
        "     [0,0,0,0,0,1,1,0,0,0,0,0,0,0,0,0,0,0,0,0,0], #Old\n",
        "     [0,0,0,0,0,0,0,1,0,0,0,0,0,0,0,0,0,0,0,0,0], #Infancy\n",
        "     [0,0,0,0,0,0,0,0,1,0,0,0,0,0,0,0,0,0,0,0,0], #Pregnancy\n",
        "     [0,0,0,0,0,0,0,0,0,1,1,0,0,0,0,0,0,0,0,0,0], #Fat\n",
        "     [0,0,0,0,0,0,0,0,0,0,0,1,1,0,0,0,0,0,0,0,0], #Fit\n",
        "     [0,0,0,0,0,0,0,0,0,0,0,0,0,1,1,0,0,0,0,0,0], #Working\n",
        "     [0,0,0,0,0,0,0,0,0,0,0,0,0,0,0,1,1,0,0,0,0], #Medical\n",
        "     [0,0,0,0,0,0,0,0,0,0,0,0,0,0,0,0,0,1,0,0,0], #Homeless\n",
        "     [0,0,0,0,0,0,0,0,0,0,0,0,0,0,0,0,0,0,1,0,0], #Criminal\n",
        "     [0,1,1,1,1,1,1,1,1,1,1,1,1,1,1,1,1,1,1,0,0], #Human\n",
        "     [0,0,0,0,0,0,0,0,0,0,0,0,0,0,0,0,0,0,0,1,1], #Non-Human\n",
        "     ]\n",
        "A = np.array(A_list)"
      ]
    },
    {
      "cell_type": "code",
      "execution_count": null,
      "metadata": {
        "id": "XNA1Hpn9v8pv"
      },
      "outputs": [],
      "source": [
        "# Feature Mapping F: Theta -> Lambda by F(Theta) = A*Theta\n",
        "# where lambda_y is abstract feature space\n",
        "\n",
        "train_lambda_y0 = []\n",
        "for theta0 in train_theta0_list:\n",
        "    train_lambda_y0.append(A @ theta0)\n",
        "\n",
        "train_lambda_y1 = []\n",
        "for theta1 in train_theta1_list: \n",
        "    train_lambda_y1.append(A @ theta1)"
      ]
    },
    {
      "cell_type": "code",
      "execution_count": null,
      "metadata": {
        "id": "hGOHBuQ8cv8T"
      },
      "outputs": [],
      "source": [
        "train_lambda_y0 = np.array([np.array(i) for i in train_lambda_y0])\n",
        "train_lambda_y1 = np.array([np.array(i) for i in train_lambda_y1])"
      ]
    },
    {
      "cell_type": "code",
      "execution_count": null,
      "metadata": {
        "colab": {
          "base_uri": "https://localhost:8080/"
        },
        "id": "gOUl5NbnA_EG",
        "outputId": "cf2ef174-2bd8-44b1-92c3-fadde4efa8f8"
      },
      "outputs": [
        {
          "name": "stdout",
          "output_type": "stream",
          "text": [
            "Running on PyMC3 v3.11.4\n",
            "Running on ArviZ v0.12.0\n"
          ]
        }
      ],
      "source": [
        "%config InlineBackend.figure_format = 'retina'\n",
        "az.style.use('arviz-darkgrid')\n",
        "print('Running on PyMC3 v{}'.format(pm.__version__))\n",
        "print('Running on ArviZ v{}'.format(az.__version__))"
      ]
    },
    {
      "cell_type": "markdown",
      "metadata": {
        "id": "X1mPdvxmB_uS"
      },
      "source": [
        "model creation"
      ]
    },
    {
      "cell_type": "code",
      "execution_count": null,
      "metadata": {
        "colab": {
          "base_uri": "https://localhost:8080/"
        },
        "id": "c_Sd7jo0C07y",
        "outputId": "71a1106b-fdf2-42ac-bc99-2474e2e40686"
      },
      "outputs": [
        {
          "name": "stdout",
          "output_type": "stream",
          "text": [
            "8 15\n"
          ]
        }
      ],
      "source": [
        "# setting some params from data\n",
        "\n",
        "respondents_idx = [int(x) for x in train_respondents_idx]\n",
        "\n",
        "n = 8 # number of respondents, might be different\n",
        "d = 15  # number of moral principles\n",
        "print(n, d)"
      ]
    },
    {
      "cell_type": "code",
      "execution_count": null,
      "metadata": {
        "id": "xMg4RPi6BBpS"
      },
      "outputs": [],
      "source": [
        "with pm.Model() as model:\n",
        "    # (1) CALCULATE COVARIANCE MATRIX SIGMA_G\n",
        "    sd_dist = pm.Exponential.dist(1.0)\n",
        "\n",
        "    chol, _, _ = pm.LKJCholeskyCov(\"chol\", n=d, eta=2.0, sd_dist=sd_dist, compute_corr=True)\n",
        "    cov = pm.Deterministic('cov', chol.dot(chol.T))\n",
        "   \n",
        "    # (2) CALCULATE GROUP PRIORS \n",
        "    group_priors = pm.MvNormal('group_priors', mu=np.zeros(d), chol=cov, shape=(1,d))    \n",
        "    \n",
        "    #(3) CALCAUTE INDIVIDUAL PRIORS \n",
        "    priors = pm.MvNormal('priors', mu=group_priors, chol=cov, shape=(n,d))\n",
        "\n",
        "    #(4) CALCULATE UTILITY\n",
        "    utility = pm.Deterministic('utility', (train_lambda_y1*priors[respondents_idx]).sum(axis=1) - \n",
        "                                          (train_lambda_y0*priors[respondents_idx]).sum(axis=1))\n",
        "                                  \n",
        "    p = 1 / (1 + np.exp(-1 * utility))\n",
        "\n",
        "    y_obs = pm.Bernoulli('y_obs', p=p, observed=train_observed) \n"
      ]
    },
    {
      "cell_type": "markdown",
      "metadata": {
        "id": "T6B-P4YwdlSq"
      },
      "source": [
        "sample from posterior distribution created above"
      ]
    },
    {
      "cell_type": "code",
      "execution_count": null,
      "metadata": {
        "colab": {
          "background_save": true,
          "base_uri": "https://localhost:8080/",
          "height": 128
        },
        "id": "lnagj-U5Vx93",
        "outputId": "11d879db-dda0-49af-b53f-5e15a4621a6e"
      },
      "outputs": [
        {
          "name": "stderr",
          "output_type": "stream",
          "text": [
            "Auto-assigning NUTS sampler...\n",
            "Initializing NUTS using jitter+adapt_diag...\n",
            "Multiprocess sampling (2 chains in 4 jobs)\n",
            "NUTS: [priors, group_priors, chol]\n"
          ]
        },
        {
          "data": {
            "text/html": [
              "\n",
              "<style>\n",
              "    /* Turns off some styling */\n",
              "    progress {\n",
              "        /* gets rid of default border in Firefox and Opera. */\n",
              "        border: none;\n",
              "        /* Needs to be in here for Safari polyfill so background images work as expected. */\n",
              "        background-size: auto;\n",
              "    }\n",
              "    .progress-bar-interrupted, .progress-bar-interrupted::-webkit-progress-bar {\n",
              "        background: #F44336;\n",
              "    }\n",
              "</style>\n"
            ],
            "text/plain": [
              "<IPython.core.display.HTML object>"
            ]
          },
          "metadata": {},
          "output_type": "display_data"
        },
        {
          "data": {
            "text/html": [
              "\n",
              "    <div>\n",
              "      <progress value='4000' class='' max='4000' style='width:300px; height:20px; vertical-align: middle;'></progress>\n",
              "      100.00% [4000/4000 29:33<00:00 Sampling 2 chains, 252 divergences]\n",
              "    </div>\n",
              "    "
            ],
            "text/plain": [
              "<IPython.core.display.HTML object>"
            ]
          },
          "metadata": {},
          "output_type": "display_data"
        },
        {
          "name": "stderr",
          "output_type": "stream",
          "text": [
            "Sampling 2 chains for 1_000 tune and 1_000 draw iterations (2_000 + 2_000 draws total) took 1773 seconds.\n",
            "There were 61 divergences after tuning. Increase `target_accept` or reparameterize.\n",
            "The chain reached the maximum tree depth. Increase max_treedepth, increase target_accept or reparameterize.\n",
            "There were 191 divergences after tuning. Increase `target_accept` or reparameterize.\n",
            "The chain reached the maximum tree depth. Increase max_treedepth, increase target_accept or reparameterize.\n",
            "The rhat statistic is larger than 1.2 for some parameters.\n",
            "The estimated number of effective samples is smaller than 200 for some parameters.\n"
          ]
        },
        {
          "data": {
            "application/vnd.google.colaboratory.intrinsic+json": {
              "type": "string"
            },
            "text/plain": [
              "'trace_chn_8_15mv_1000draw_1000tune.trace'"
            ]
          },
          "execution_count": null,
          "metadata": {},
          "output_type": "execute_result"
        }
      ],
      "source": [
        "with model: \n",
        "  trace = pm.sample(draws=1000, chains=2, cores=4, target_accept=0.90)\n",
        "\n",
        "pm.save_trace(trace, \"trace_chn_8_15mv_1000draw_1000tune.trace\")"
      ]
    },
    {
      "cell_type": "code",
      "execution_count": null,
      "metadata": {
        "colab": {
          "base_uri": "https://localhost:8080/"
        },
        "id": "wLT-9-Ch9134",
        "outputId": "401bf341-2fa9-4866-e057-2f806dca9c72"
      },
      "outputs": [
        {
          "name": "stdout",
          "output_type": "stream",
          "text": [
            "chol shape:  (2000, 15, 15)\n",
            "group_priors shape:  (2000, 1, 15)\n",
            "group_priors mean:  [[-0.02967214 -0.03387043  0.75237774 -0.26985355  0.14837314  0.5495377\n",
            "  -0.06990852  0.04375039 -0.02580053 -1.26693844  1.95605215 -0.47631051\n",
            "   0.93791159  0.12518389 -0.45434939]]\n",
            "priors shape:  (2000, 4, 15)\n",
            "priors element example:  [ 0.16252135  0.00572954 -0.41965619 -1.00869343 -0.0615241   0.93560874\n",
            "  0.6184891   0.52113736 -0.01213185 -0.65333342  1.94040729  0.06209337\n",
            "  0.58122036 -0.17629094 -1.11570227]\n"
          ]
        }
      ],
      "source": [
        "with model:\n",
        "   trace = pm.load_trace('trace_chn_4_15mv_1000draw_1000tune.trace') \n",
        "\n",
        "trace1 = trace['cov']\n",
        "trace2 = trace['group_priors']\n",
        "trace3 = trace['priors']\n",
        "print(\"chol shape: \", trace1.shape)\n",
        "print(\"group_priors shape: \", trace2.shape)\n",
        "print(\"group_priors mean: \", np.mean(trace2, axis=0))\n",
        "print(\"priors shape: \", trace3.shape)\n",
        "print(\"priors element example: \", trace3[0][0])"
      ]
    },
    {
      "cell_type": "code",
      "execution_count": null,
      "metadata": {
        "colab": {
          "base_uri": "https://localhost:8080/",
          "height": 320
        },
        "id": "Otg5kNYX9139",
        "outputId": "8868d83c-f525-4334-8ee1-bc67bca99fb2"
      },
      "outputs": [
        {
          "data": {
            "image/png": "[encoded data removed]",
            "text/plain": [
              "<Figure size 432x288 with 1 Axes>"
            ]
          },
          "metadata": {},
          "output_type": "display_data"
        }
      ],
      "source": [
        "moral_values = ['Intervene', 'Male', 'Female', 'Young', 'Old', 'Infancy', 'Pregnancy', 'Large', 'Fit',\n",
        "                'Executive', 'Doctor', 'Homeless', 'Criminal', 'Human', 'Non-human'] \n",
        "\n",
        "gp = pd.DataFrame(trace['group_priors'].reshape(2000, 15)) #(2000,1,15))\n",
        "gp.columns = moral_values\n",
        "#print(gp.describe())\n",
        "\n",
        "data_to_plot = [gp['Intervene'], gp['Male'], gp['Female'], \n",
        "                gp['Young'], gp['Old'], gp['Infancy'], gp['Pregnancy'],\n",
        "                gp['Large'], gp['Fit'], \n",
        "                gp['Executive'], gp['Doctor'],\n",
        "                gp['Homeless'], gp['Criminal'] , gp['Human'], gp['Non-human']\n",
        "                ]\n",
        "\n",
        "fig, ax = plt.subplots() \n",
        "\n",
        "bp = ax.violinplot(data_to_plot, showmeans=False, showmedians=True, showextrema=False)\n",
        "ax.set_title('Inferred Group Norms (n=32) ALL')\n",
        "ax.set_ylabel('w Weights')\n",
        "\n",
        "ax.set_xticks(range(1,16))\n",
        "ax.set_xticklabels(moral_values, rotation=45, fontsize=10)\n",
        "ax.set_ylim([-2,3])\n",
        "\n",
        "plt.show()"
      ]
    },
    {
      "cell_type": "code",
      "execution_count": null,
      "metadata": {
        "colab": {
          "base_uri": "https://localhost:8080/"
        },
        "id": "-lia0ncL9139",
        "outputId": "a9b16b63-cbc9-4c4e-a0c3-88a5115ac11c"
      },
      "outputs": [
        {
          "name": "stdout",
          "output_type": "stream",
          "text": [
            "(15, 15)\n"
          ]
        }
      ],
      "source": [
        "cov_matrix = pd.DataFrame(np.mean(trace['cov'], axis=0))\n",
        "cov_matrix.columns = moral_values\n",
        "cov_matrix.index = moral_values\n",
        "print(cov_matrix.shape)\n",
        "# print(cov_matrix.describe())"
      ]
    },
    {
      "cell_type": "code",
      "execution_count": null,
      "metadata": {
        "colab": {
          "base_uri": "https://localhost:8080/",
          "height": 318
        },
        "id": "CyUfS4CT9139",
        "outputId": "d2d5531b-fd89-4898-f2e8-c6d26aad947b"
      },
      "outputs": [
        {
          "data": {
            "image/png": "[encoded data removed]",
            "text/plain": [
              "<Figure size 432x288 with 2 Axes>"
            ]
          },
          "metadata": {},
          "output_type": "display_data"
        }
      ],
      "source": [
        "ax = sns.heatmap(cov_matrix, cmap=\"RdBu\", vmin=-0.2, vmax=.3)"
      ]
    },
    {
      "cell_type": "code",
      "execution_count": null,
      "metadata": {
        "colab": {
          "base_uri": "https://localhost:8080/"
        },
        "id": "w3q52BBc913-",
        "outputId": "8baaa127-697d-439e-bd5c-ab46de89de2f"
      },
      "outputs": [
        {
          "name": "stdout",
          "output_type": "stream",
          "text": [
            "expected shape: (n,d), actual shape:  (4, 15)\n"
          ]
        }
      ],
      "source": [
        "# get mean individual priors to evaluate accuracy\n",
        "# shape of priors: (2000, n, d)\n",
        "priors_mean = np.mean(trace['priors'], axis=0)\n",
        "print(\"expected shape: (n,d), actual shape: \", priors_mean.shape)"
      ]
    },
    {
      "cell_type": "code",
      "execution_count": null,
      "metadata": {
        "id": "9623Qs3H913-"
      },
      "outputs": [],
      "source": [
        "def predict_outcome(weights, lambda0, lambda1):\n",
        "    utility = np.dot(weights, lambda1) - np.dot(weights, lambda0)\n",
        "    if utility < 0:\n",
        "        return 0\n",
        "    else:\n",
        "        return 1\n",
        "\n",
        "def get_accuracy(test_data):\n",
        "    total = 0\n",
        "    results = []\n",
        "\n",
        "    for name, group in test_data.groupby(['UserID','ResponseID']):\n",
        "      if group.shape[0]==2:\n",
        "        row0 = group[group['Intervention']==1]\n",
        "        row1 = group[group['Intervention']==0]\n",
        "\n",
        "        chosen_outcome = 1 if row1['Saved'].iloc[0]==1 else 0\n",
        "        \n",
        "        user_num = row0['index'].iloc[0]\n",
        "        \n",
        "        theta0 = [0, row0['Man'].iloc[0], row0['Woman'].iloc[0], row0['Boy'].iloc[0], \n",
        "              row0['Girl'].iloc[0], row0['OldMan'].iloc[0], row0['OldWoman'].iloc[0], \n",
        "              row0['Stroller'].iloc[0], row0['Pregnant'].iloc[0], row0['LargeMan'].iloc[0], row0['LargeWoman'].iloc[0], \n",
        "              row0['MaleAthlete'].iloc[0], row0['FemaleAthlete'].iloc[0], row0['MaleExecutive'].iloc[0], row0['FemaleExecutive'].iloc[0], \n",
        "              row0['MaleDoctor'].iloc[0], row0['FemaleDoctor'].iloc[0], row0['Homeless'].iloc[0], row0['Criminal'].iloc[0], \n",
        "              row0['Dog'].iloc[0], row0['Cat'].iloc[0]\n",
        "              ] \n",
        "        \n",
        "        theta1 = [1, row1['Man'].iloc[0], row1['Woman'].iloc[0], row1['Boy'].iloc[0], \n",
        "              row1['Girl'].iloc[0], row1['OldMan'].iloc[0], row1['OldWoman'].iloc[0], \n",
        "              row1['Stroller'].iloc[0], row1['Pregnant'].iloc[0], row1['LargeMan'].iloc[0], row1['LargeWoman'].iloc[0], \n",
        "              row1['MaleAthlete'].iloc[0], row1['FemaleAthlete'].iloc[0], row1['MaleExecutive'].iloc[0], row1['FemaleExecutive'].iloc[0], \n",
        "              row1['MaleDoctor'].iloc[0], row1['FemaleDoctor'].iloc[0], row1['Homeless'].iloc[0], row1['Criminal'].iloc[0], \n",
        "              row1['Dog'].iloc[0], row1['Cat'].iloc[0]\n",
        "              ] \n",
        "        \n",
        "        lambda0 = A @ theta0\n",
        "        lambda1 = A @ theta1\n",
        "\n",
        "        weights = priors_mean[user_num] \n",
        "        predicted = predict_outcome(weights, lambda0, lambda1)\n",
        "\n",
        "        results.append([chosen_outcome, predicted, row0['Review_gender'].iloc[0], row0['Review_education'].iloc[0], row0['Review_income'].iloc[0]])\n",
        "    return pd.DataFrame(results) \n"
      ]
    },
    {
      "cell_type": "code",
      "execution_count": null,
      "metadata": {
        "colab": {
          "base_uri": "https://localhost:8080/"
        },
        "id": "kJ3z6S9H913-",
        "outputId": "3b8596eb-9582-4e71-94a3-75d8564b743f"
      },
      "outputs": [
        {
          "name": "stdout",
          "output_type": "stream",
          "text": [
            "overall accuracy:  0.8846153846153846\n",
            "['above100000' 'under5000' '25000']\n"
          ]
        }
      ],
      "source": [
        "acc = get_accuracy(df) #test_data\n",
        "acc.columns = ['chosen', 'predicted', 'gender', 'education', 'income']\n",
        "print(\"overall accuracy: \", acc[acc['chosen']==acc['predicted']].shape[0]/acc.shape[0])\n",
        "print(acc['income'].unique())"
      ]
    },
    {
      "cell_type": "code",
      "execution_count": null,
      "metadata": {
        "colab": {
          "base_uri": "https://localhost:8080/"
        },
        "id": "9ANU9GfSZBDJ",
        "outputId": "955832d6-b51a-4e4d-fef6-0dd5fbc3657e"
      },
      "outputs": [
        {
          "name": "stdout",
          "output_type": "stream",
          "text": [
            "0.7855822550831792 0.7956989247311828 0.7410714285714286\n"
          ]
        }
      ],
      "source": [
        "accuracy_female = acc[(acc['chosen']==acc['predicted']) & (acc['gender']=='female')].shape[0] / acc[acc['gender']=='female'].shape[0]\n",
        "accuracy_male = acc[(acc['chosen']==acc['predicted']) & (acc['gender']=='male')].shape[0] / acc[acc['gender']=='male'].shape[0]\n",
        "accuracy_default = acc[(acc['chosen']==acc['predicted']) & (acc['gender']=='default')].shape[0] / acc[acc['gender']=='default'].shape[0]\n",
        "# accuracy_others = acc[(acc['chosen']==acc['predicted']) & (acc['gender']=='others')].shape[0] / acc[acc['gender']=='others'].shape[0]\n",
        "\n",
        "print(accuracy_female, accuracy_male, accuracy_default)"
      ]
    },
    {
      "cell_type": "code",
      "execution_count": null,
      "metadata": {
        "colab": {
          "base_uri": "https://localhost:8080/"
        },
        "id": "CI3H7n6EUOYv",
        "outputId": "5a741203-2e57-4465-daff-cc641839654e"
      },
      "outputs": [
        {
          "name": "stdout",
          "output_type": "stream",
          "text": [
            "0.7875457875457875 0.8262295081967214 0.8067632850241546 0.8042895442359249 0.7676767676767676\n"
          ]
        }
      ],
      "source": [
        "high = acc[(acc['chosen']==acc['predicted']) & (acc['education']=='high')].shape[0] / acc[acc['education']=='high'].shape[0]\n",
        "bachelor = acc[(acc['chosen']==acc['predicted']) & (acc['education']=='bachelor')].shape[0] / acc[acc['education']=='bachelor'].shape[0]\n",
        "college = acc[(acc['chosen']==acc['predicted']) & (acc['education']=='college')].shape[0] / acc[acc['education']=='college'].shape[0]\n",
        "graduate = acc[(acc['chosen']==acc['predicted']) & (acc['education']=='graduate')].shape[0] / acc[acc['education']=='graduate'].shape[0]\n",
        "underHigh = acc[(acc['chosen']==acc['predicted']) & (acc['education']=='underHigh')].shape[0] / acc[acc['education']=='underHigh'].shape[0]\n",
        "\n",
        "print(high, bachelor, college, graduate, underHigh)"
      ]
    },
    {
      "cell_type": "code",
      "execution_count": null,
      "metadata": {
        "colab": {
          "base_uri": "https://localhost:8080/"
        },
        "id": "biUSykUOVb1J",
        "outputId": "6aa63969-b737-4401-85c0-e8b2f5b03c60"
      },
      "outputs": [
        {
          "name": "stdout",
          "output_type": "stream",
          "text": [
            "0.7866379310344828 0.7967479674796748 0.7582938388625592\n"
          ]
        }
      ],
      "source": [
        "under5000 = acc[(acc['chosen']==acc['predicted']) & (acc['income']=='under5000')].shape[0] / acc[acc['income']=='under5000'].shape[0]\n",
        "ten_000 = acc[(acc['chosen']==acc['predicted']) & (acc['income']=='10000')].shape[0] / acc[acc['income']=='10000'].shape[0]\n",
        "above100000 = acc[(acc['chosen']==acc['predicted']) & (acc['income']=='above100000')].shape[0] / acc[acc['income']=='above100000'].shape[0]\n",
        "\n",
        "print(under5000, ten_000, above100000)"
      ]
    },
    {
      "cell_type": "code",
      "execution_count": null,
      "metadata": {
        "id": "2a5kcB21913_"
      },
      "outputs": [],
      "source": [
        ""
      ]
    }
  ],
  "metadata": {
    "colab": {
      "collapsed_sections": [],
      "name": "6882_final_project.ipynb",
      "provenance": []
    },
    "kernelspec": {
      "display_name": "Python 3",
      "language": "python",
      "name": "python3"
    },
    "language_info": {
      "codemirror_mode": {
        "name": "ipython",
        "version": 3
      },
      "file_extension": ".py",
      "mimetype": "text/x-python",
      "name": "python",
      "nbconvert_exporter": "python",
      "pygments_lexer": "ipython3",
      "version": "3.7.3"
    }
  },
  "nbformat": 4,
  "nbformat_minor": 0
}